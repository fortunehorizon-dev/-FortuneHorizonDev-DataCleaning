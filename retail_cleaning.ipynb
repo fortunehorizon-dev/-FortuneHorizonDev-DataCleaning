{
 "cells": [
  {
   "cell_type": "markdown",
   "id": "d1853ad6",
   "metadata": {},
   "source": [
    "# Nettoyage de données retail / Retail Data Cleaning\n",
    "## Contexte\n",
    "Dataset retail typique d’une PME e-commerce : ventes, clients, 15 % doublons, NaNs, formats incohérents."
   ]
  },
  {
   "cell_type": "code",
   "execution_count": null,
   "id": "57002141",
   "metadata": {
    "vscode": {
     "languageId": "plaintext"
    }
   },
   "outputs": [],
   "source": [
    "import pandas as pd\n",
    "import matplotlib.pyplot as plt\n",
    "\n",
    "# 1. Diagnostic\n",
    "df = pd.read_csv(\"retail_store_sales.csv\")\n",
    "print(\"Avant nettoyage :\")\n",
    "print(df.head())  # Screenshot 1\n",
    "print(\"Doublons :\", df.duplicated().sum())  # Ex. : 150 doublons\n",
    "print(\"NaNs :\", df.isna().sum())  # Screenshot 2"
   ]
  },
  {
   "cell_type": "code",
   "execution_count": null,
   "id": "ba0eb135",
   "metadata": {
    "vscode": {
     "languageId": "plaintext"
    }
   },
   "outputs": [],
   "source": [
    "# 2. Nettoyage\n",
    "df = df.drop_duplicates(subset=['customer_id'])  # Supprime doublons\n",
    "df['price'] = df['price'].clip(lower=0)  # Corrige prix négatifs\n",
    "df['date'] = pd.to_datetime(df['date'], errors='coerce')  # Normalise dates\n",
    "df = df.dropna(subset=['email'])  # Supprime NaNs critiques\n",
    "print(\"Après nettoyage :\")\n",
    "print(df.head())  # Screenshot 3"
   ]
  },
  {
   "cell_type": "code",
   "execution_count": null,
   "id": "195458b0",
   "metadata": {
    "vscode": {
     "languageId": "plaintext"
    }
   },
   "outputs": [],
   "source": [
    "# 3. Visualisation KPI\n",
    "sales_by_product = df.groupby('product')['price'].sum()\n",
    "sales_by_product.plot(kind='bar', title='Ventes par produit nettoyées')\n",
    "plt.savefig('screenshots/sales_graph.png')  # Screenshot 4\n",
    "plt.show()"
   ]
  },
  {
   "cell_type": "code",
   "execution_count": null,
   "id": "d3be2be3",
   "metadata": {
    "vscode": {
     "languageId": "plaintext"
    }
   },
   "outputs": [],
   "source": [
    "# 4. Export\n",
    "df.to_excel('retail_clean.xlsx', index=False)\n",
    "print(\"Résultat : +20 % données exploitables pour campagnes marketing.\")"
   ]
  }
 ],
 "metadata": {
  "language_info": {
   "name": "python"
  }
 },
 "nbformat": 4,
 "nbformat_minor": 5
}
